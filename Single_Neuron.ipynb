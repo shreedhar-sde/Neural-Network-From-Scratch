{
  "nbformat": 4,
  "nbformat_minor": 0,
  "metadata": {
    "colab": {
      "provenance": []
    },
    "kernelspec": {
      "name": "python3",
      "display_name": "Python 3"
    },
    "language_info": {
      "name": "python"
    }
  },
  "cells": [
    {
      "cell_type": "markdown",
      "source": [
        "# Simple Neuron\n",
        "![image.png](data:image/png;base64,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)\n",
        "\n",
        "This is a code for simple neuron which returns the value obtained on summation of product of Input value and their corresponding weights and adding the bias to this value"
      ],
      "metadata": {
        "id": "hXLXV64NY1iZ"
      }
    },
    {
      "cell_type": "code",
      "source": [
        "class Neuron:\n",
        "  def __init__(self,input,weights,bias):\n",
        "    self.input=input\n",
        "    self.weights=weights\n",
        "    self.bias=bias\n",
        "  def derive_output(self):\n",
        "    out=0\n",
        "    for i in range(len(self.input)):\n",
        "      out+=self.input[i]*self.weights[i]\n",
        "    self.output=out+self.bias\n",
        "    return self.output\n",
        "\n",
        "nr=Neuron([1,2,3],[3,4,5],6)\n",
        "print(nr.derive_output())\n"
      ],
      "metadata": {
        "colab": {
          "base_uri": "https://localhost:8080/"
        },
        "id": "9tFDAh3BIox7",
        "outputId": "8a605ab8-197e-49fe-d8ee-2b882aa021d9"
      },
      "execution_count": 9,
      "outputs": [
        {
          "output_type": "stream",
          "name": "stdout",
          "text": [
            "32\n"
          ]
        }
      ]
    }
  ]
}